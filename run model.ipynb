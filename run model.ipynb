{
 "cells": [
  {
   "cell_type": "markdown",
   "source": "# This is the code: evaluates my saved model that I have trained and it get accuracy 99.55%",
   "metadata": {
    "tags": [],
    "is_collapsed": false,
    "cell_id": "00000-22d7ec38-6e18-48f5-a610-c239e79130b0",
    "deepnote_cell_type": "text-cell-h1"
   }
  },
  {
   "cell_type": "markdown",
   "source": "## *Download file \"saved_model_acc995.h5\" that is my saved model and run the code below.",
   "metadata": {
    "tags": [],
    "is_collapsed": false,
    "cell_id": "00001-8cf71b0e-d504-469c-894f-0febc9a793a6",
    "deepnote_cell_type": "text-cell-h2"
   }
  },
  {
   "cell_type": "code",
   "metadata": {
    "deepnote_to_be_reexecuted": false,
    "source_hash": "81eb85fa",
    "execution_start": 1636486273795,
    "execution_millis": 5025,
    "cell_id": "00000-696ae76c-0d0f-4c2e-b9ec-99b757bd27c1",
    "deepnote_cell_type": "code"
   },
   "source": "#Download file \"saved_model_acc995.h5\" that is my saved model and run the code below.\n\n# set up\n\n# import tensorflow.compat.v1 as tf\n# tf.disable_v2_behavior()\n\nimport tensorflow as tf\nimport numpy as np\n# import matplotlib.pyplot as plt\n\nfrom tensorflow.keras.layers import Dense, Flatten\nfrom tensorflow.keras.models import Sequential\nfrom tensorflow.keras.utils import to_categorical\nfrom tensorflow.keras.initializers import Initializer as KerasInitializer\nfrom tensorflow.keras.datasets import mnist\nfrom tensorflow.keras.callbacks import Callback\nfrom tensorflow.keras import layers\nfrom tensorflow.keras import initializers\nfrom tensorflow.keras.layers import Conv2D, Lambda, MaxPooling2D\nfrom tensorflow.keras.layers import BatchNormalization\nfrom IPython.display import Image\nfrom tensorflow.keras.preprocessing.image import ImageDataGenerator\n",
   "outputs": [],
   "execution_count": 1
  },
  {
   "cell_type": "code",
   "metadata": {
    "deepnote_to_be_reexecuted": false,
    "source_hash": "4d3c03b5",
    "execution_start": 1636486278825,
    "execution_millis": 443,
    "cell_id": "00001-f7574395-7ed5-4cff-86ee-f7ccc59a6bde",
    "deepnote_cell_type": "code"
   },
   "source": "# prepare dataset\n\n# MNIST dataset parameters\n\ninput_shape = 28 # input shape: 28 X 28 = 784\nnum_classes = 10 # total classes (0-9 digits)\n\n# import and load MNIST dataset, split between and test datasets\n\n(x_train, y_train), (x_test, y_test) = mnist.load_data()\n\n# normalize image pixcel values from [0, 255] to [0, 1]\n\nx_train, x_test = x_train / 255., x_test / 255.\n\n# convert class vectors into one-hot encoded format\n\ny_train = to_categorical(y_train)\ny_test = to_categorical(y_test)\n\n# inspect an random sample\n\nindex = 128\n\nprint(y_train[index])\nprint(y_train[index].shape)\nprint(y_test[index])\nprint(y_test[index].shape)\n\nx_train = x_train.reshape(-1,28,28,1)\nx_test = x_test.reshape(-1,28,28,1)\n\n# check the shape of MNIST images\n\n\nprint('MNIST dataset shapes:')\nprint('x_train: ' + str(x_train.shape))\nprint('y_train: ' + str(y_train.shape))\nprint('x_test: ' + str(x_test.shape))\nprint('y_test: ' + str(y_test.shape))",
   "outputs": [
    {
     "name": "stdout",
     "text": "[0. 1. 0. 0. 0. 0. 0. 0. 0. 0.]\n(10,)\n[0. 0. 0. 0. 0. 0. 0. 0. 1. 0.]\n(10,)\nMNIST dataset shapes:\nx_train: (60000, 28, 28, 1)\ny_train: (60000, 10)\nx_test: (10000, 28, 28, 1)\ny_test: (10000, 10)\n",
     "output_type": "stream"
    }
   ],
   "execution_count": 2
  },
  {
   "cell_type": "code",
   "metadata": {
    "tags": [],
    "deepnote_to_be_reexecuted": false,
    "source_hash": "ad267106",
    "execution_start": 1636486279274,
    "execution_millis": 221,
    "cell_id": "00011-a5786179-d778-4201-b840-7cf27fe7ab43",
    "deepnote_cell_type": "code"
   },
   "source": "PATH = \"/work/saved_model_acc995.h5\"\nmodel = tf.keras.models.load_model(PATH)",
   "outputs": [],
   "execution_count": 3
  },
  {
   "cell_type": "code",
   "metadata": {
    "tags": [],
    "deepnote_to_be_reexecuted": false,
    "source_hash": "b1b82949",
    "execution_start": 1636486279500,
    "execution_millis": 11936,
    "cell_id": "00012-82f0774e-7fc5-45da-ad5b-aa5577ffd9bc",
    "deepnote_cell_type": "code"
   },
   "source": "# evaluate the saved model\n\nscore = model.evaluate(x_test, y_test, verbose = 0)\nprint(\"test loss:\", score[0])\nprint(\"test accuracy:\", score[1])",
   "outputs": [
    {
     "name": "stdout",
     "text": "test loss: 0.016430335119366646\ntest accuracy: 0.9955000281333923\n",
     "output_type": "stream"
    }
   ],
   "execution_count": 4
  },
  {
   "cell_type": "code",
   "metadata": {
    "tags": [],
    "deepnote_to_be_reexecuted": false,
    "source_hash": "7fdd285a",
    "execution_start": 1636486291440,
    "execution_millis": 11598,
    "cell_id": "00013-403864fe-748f-4b4c-a045-0edf8304b197",
    "deepnote_cell_type": "code"
   },
   "source": "# make predictions: it is the prediction of each test sample\n\npredictions = model.predict(x_test)\npredictions = np.argmax(predictions, axis = 1)\nprint(predictions)",
   "outputs": [
    {
     "name": "stdout",
     "text": "[7 2 1 ... 4 5 6]\n",
     "output_type": "stream"
    }
   ],
   "execution_count": 5
  },
  {
   "cell_type": "markdown",
   "source": "# Below; this is the code that I created&gt;trained&gt; and saved to the model above ",
   "metadata": {
    "tags": [],
    "is_collapsed": false,
    "cell_id": "00007-7d1bc65a-7048-4439-9198-17dc2c3c6b28",
    "deepnote_cell_type": "text-cell-h1"
   }
  },
  {
   "cell_type": "markdown",
   "source": "## You can un-comments and try to run it",
   "metadata": {
    "tags": [],
    "is_collapsed": false,
    "cell_id": "00008-ddab68b5-5619-424f-9381-948723372367",
    "deepnote_cell_type": "text-cell-h2"
   }
  },
  {
   "cell_type": "code",
   "metadata": {
    "tags": [],
    "cell_id": "00008-fbf7ac5f-7ba0-484c-ab83-50ff0581423f",
    "deepnote_to_be_reexecuted": false,
    "source_hash": "1aafb480",
    "execution_start": 1636486303034,
    "execution_millis": 1,
    "deepnote_cell_type": "code"
   },
   "source": "# import tensorflow as tf\n# import numpy as np\n\n# from tensorflow.keras.layers import Dense, Flatten\n# from tensorflow.keras.models import Sequential\n# from tensorflow.keras.utils import to_categorical\n# from tensorflow.keras.initializers import Initializer as KerasInitializer\n# from tensorflow.keras.datasets import mnist\n# from tensorflow.keras.callbacks import Callback\n# from tensorflow.keras import layers\n# from tensorflow.keras import initializers\n# from tensorflow.keras.layers import Conv2D, Lambda, MaxPooling2D\n# from tensorflow.keras.layers import BatchNormalization\n# from IPython.display import Image\n# from tensorflow.keras.preprocessing.image import ImageDataGenerator",
   "outputs": [],
   "execution_count": 6
  },
  {
   "cell_type": "code",
   "metadata": {
    "tags": [],
    "cell_id": "00009-21febb24-364c-4e9a-809f-65c5ad75d549",
    "deepnote_to_be_reexecuted": false,
    "source_hash": "6cc56d9a",
    "execution_start": 1636486303035,
    "execution_millis": 1,
    "deepnote_cell_type": "code"
   },
   "source": "# input_shape = 28 # input shape: 28 X 28 = 784\n# num_classes = 10 # total classes (0-9 digits)\n\n\n# (x_train, y_train), (x_test, y_test) = mnist.load_data()\n\n\n# x_train, x_test = x_train / 255., x_test / 255.\n\n# y_train = to_categorical(y_train)\n# y_test = to_categorical(y_test)\n\n# index = 128\n\n# print(y_train[index])\n# print(y_train[index].shape)\n# print(y_test[index])\n# print(y_test[index].shape)\n\n# x_train = x_train.reshape(-1,28,28,1)\n# x_test = x_test.reshape(-1,28,28,1)\n\n# print('MNIST dataset shapes:')\n# print('x_train: ' + str(x_train.shape))\n# print('y_train: ' + str(y_train.shape))\n# print('x_test: ' + str(x_test.shape))\n# print('y_test: ' + str(y_test.shape))",
   "outputs": [],
   "execution_count": 7
  },
  {
   "cell_type": "code",
   "metadata": {
    "tags": [],
    "cell_id": "00010-bb41b0da-a43d-4bce-adf7-1d0cc1d9e8af",
    "deepnote_to_be_reexecuted": false,
    "source_hash": "4c69b0e8",
    "execution_start": 1636486303037,
    "execution_millis": 38,
    "deepnote_cell_type": "code"
   },
   "source": "# buffer_size = 100000\n# learning_rate = 0.1\n# training_epochs = 50\n# batch_size = 64\n# patience = 10",
   "outputs": [],
   "execution_count": 8
  },
  {
   "cell_type": "code",
   "metadata": {
    "tags": [],
    "cell_id": "00011-ef4a444a-21fe-4948-8198-5a5082e16ab0",
    "deepnote_to_be_reexecuted": false,
    "source_hash": "78bf87",
    "execution_start": 1636486303076,
    "execution_millis": 11,
    "deepnote_cell_type": "code"
   },
   "source": "# callback = tf.keras.callbacks.EarlyStopping(monitor = 'val_loss', patience = patience, verbose = 0)",
   "outputs": [],
   "execution_count": 9
  },
  {
   "cell_type": "code",
   "source": "# optimizer = tf.keras.optimizers.SGD(learning_rate = learning_rate) # optimizer",
   "metadata": {
    "tags": [],
    "cell_id": "00013-d684d19b-fc35-482a-88ba-837910f42860",
    "deepnote_to_be_reexecuted": false,
    "source_hash": "3eaf8252",
    "execution_start": 1636486303088,
    "execution_millis": 4,
    "deepnote_cell_type": "code"
   },
   "outputs": [],
   "execution_count": 10
  },
  {
   "cell_type": "code",
   "metadata": {
    "tags": [],
    "cell_id": "00012-dfbccadf-eb77-4389-8cc9-d322661a26da",
    "deepnote_to_be_reexecuted": false,
    "source_hash": "15025676",
    "execution_start": 1636486303095,
    "execution_millis": 6,
    "deepnote_cell_type": "code"
   },
   "source": "# model=Sequential()\n    \n# model.add(Conv2D(filters=64, kernel_size = (3,3), activation=\"relu\", input_shape=(28,28,1)))\n# model.add(Conv2D(filters=64, kernel_size = (3,3), activation=\"relu\"))\n\n# model.add(MaxPooling2D(pool_size=(2,2)))\n# model.add(BatchNormalization())\n# model.add(Conv2D(filters=128, kernel_size = (3,3), activation=\"relu\"))\n# model.add(Conv2D(filters=128, kernel_size = (3,3), activation=\"relu\"))\n\n# model.add(MaxPooling2D(pool_size=(2,2)))\n# model.add(BatchNormalization())    \n# model.add(Conv2D(filters=256, kernel_size = (3,3), activation=\"relu\"))\n    \n# model.add(MaxPooling2D(pool_size=(2,2)))\n    \n# model.add(Flatten())\n# model.add(BatchNormalization())\n# model.add(Dense(512,activation=\"relu\"))\n    \n# model.add(Dense(10,activation=\"softmax\"))\n\n# model.compile(loss=\"categorical_crossentropy\", optimizer=optimizer, metrics=[\"accuracy\"])  \n    \n# model.summary()",
   "outputs": [],
   "execution_count": 11
  },
  {
   "cell_type": "code",
   "metadata": {
    "tags": [],
    "cell_id": "00014-85352990-c674-4f64-9199-d322499e9c25",
    "deepnote_to_be_reexecuted": false,
    "source_hash": "c706fa5c",
    "execution_start": 1636486303107,
    "execution_millis": 3,
    "deepnote_cell_type": "code"
   },
   "source": "# datagen = ImageDataGenerator( # Data augmentation to prevent overfitting\n#         featurewise_center=False,  # set input mean to 0 over the dataset\n#         samplewise_center=False,  # set each sample mean to 0\n#         featurewise_std_normalization=False,  # divide inputs by std of the dataset\n#         samplewise_std_normalization=False,  # divide each input by its std\n#         zca_whitening=False,  # apply ZCA whitening\n#         rotation_range=10,  # randomly rotate images \n#         zoom_range = 0.1, # Randomly zoom image \n#         width_shift_range=0.1,  # randomly shift images horizontally (fraction of total width)\n#         height_shift_range=0.1,  # randomly shift images vertically (fraction of total height)\n#         horizontal_flip=False,  # randomly flip images\n#         vertical_flip=False)  # randomly flip images\n\n\n# train_gen = datagen.flow(x_train, y_train, batch_size=64)\n# test_gen = datagen.flow(x_test, y_test, batch_size=64)",
   "outputs": [],
   "execution_count": 12
  },
  {
   "cell_type": "code",
   "metadata": {
    "tags": [],
    "cell_id": "00015-8344339c-ab25-4575-bf20-c9bb828a7cce",
    "deepnote_to_be_reexecuted": false,
    "source_hash": "2a833243",
    "execution_start": 1636486303111,
    "execution_millis": 4,
    "deepnote_cell_type": "code"
   },
   "source": "# history = model.fit_generator(train_gen, \n#                               epochs = 50, \n#                               steps_per_epoch = x_train.shape[0] // batch_size,\n#                               validation_data = test_gen,\n#                               validation_steps = x_test.shape[0] // batch_size) # Fit the model",
   "outputs": [],
   "execution_count": 13
  },
  {
   "cell_type": "code",
   "metadata": {
    "tags": [],
    "cell_id": "00016-0a356ec6-79a8-495b-b928-bc83c2462be3",
    "deepnote_to_be_reexecuted": false,
    "source_hash": "61185e28",
    "execution_start": 1636486303118,
    "execution_millis": 3,
    "deepnote_cell_type": "code"
   },
   "source": "# score = model.evaluate(x_test, y_test, verbose = 0)\n# print(\"test loss:\", score[0])\n# print(\"test accuracy:\", score[1])",
   "outputs": [],
   "execution_count": 14
  },
  {
   "cell_type": "code",
   "metadata": {
    "tags": [],
    "cell_id": "00017-dc505b8b-428f-4365-bce1-82c25e55529e",
    "deepnote_to_be_reexecuted": false,
    "source_hash": "e2c0175f",
    "execution_start": 1636486303123,
    "execution_millis": 8,
    "deepnote_cell_type": "code"
   },
   "source": "# predictions = model.predict(x_test)\n# predictions = np.argmax(predictions, axis = 1)\n# print(predictions)",
   "outputs": [],
   "execution_count": 15
  },
  {
   "cell_type": "code",
   "metadata": {
    "tags": [],
    "cell_id": "00018-4cd179f2-b393-4c82-bc47-506effe071b3",
    "deepnote_to_be_reexecuted": false,
    "source_hash": "dfcd0e5a",
    "execution_start": 1636486303133,
    "execution_millis": 1,
    "deepnote_cell_type": "code"
   },
   "source": "# model.save('saved_model.h5')",
   "outputs": [],
   "execution_count": 16
  },
  {
   "cell_type": "markdown",
   "source": "<a style='text-decoration:none;line-height:16px;display:flex;color:#5B5B62;padding:10px;justify-content:end;' href='https://deepnote.com?utm_source=created-in-deepnote-cell&projectId=4a5eb7c8-dcf2-4b88-b8eb-d1931de0d517' target=\"_blank\">\n<img alt='Created in deepnote.com' style='display:inline;max-height:16px;margin:0px;margin-right:7.5px;' src='data:image/svg+xml;base64,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' > </img>\nCreated in <span style='font-weight:600;margin-left:4px;'>Deepnote</span></a>",
   "metadata": {
    "tags": [],
    "created_in_deepnote_cell": true,
    "deepnote_cell_type": "markdown"
   }
  }
 ],
 "nbformat": 4,
 "nbformat_minor": 5,
 "metadata": {
  "kernelspec": {
   "display_name": "test",
   "language": "python",
   "name": "test"
  },
  "language_info": {
   "codemirror_mode": {
    "name": "ipython",
    "version": 3
   },
   "file_extension": ".py",
   "mimetype": "text/x-python",
   "name": "python",
   "nbconvert_exporter": "python",
   "pygments_lexer": "ipython3",
   "version": "3.7.10"
  },
  "deepnote_notebook_id": "d306745f-b68f-4bc4-9ee4-174731e2d597",
  "deepnote": {},
  "deepnote_execution_queue": []
 }
}